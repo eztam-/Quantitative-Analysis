{
 "cells": [
  {
   "cell_type": "markdown",
   "metadata": {},
   "source": [
    "# Valuation of currencies against a currency basket \n",
    "This code simply converts two currency pairs (B/A and C/A) to C/B.\n",
    "Whereby B or C could also be a basket of currencies which makes it possible\n",
    "to determine the value of a single currency against a broader basket of other currencies.\n",
    "\n",
    "_(Don't compare a currency against a basket that contains the currency itself!)_\n",
    "\n",
    "__The following USD denominated baskets are provided by FRED and can be used for comparison:__\n",
    "\n",
    "__DTWEXM__ Trade Weighted U.S. Dollar Index: Major Currencies\n",
    "\n",
    "__DTWEXO__ Trade Weighted U.S. Dollar Index: Other Important Trading Partners\n",
    "\n",
    "__DTWEXB__ Trade Weighted U.S. Dollar Index: Broad\n",
    "\n",
    "__List of available currencies for valuation__\n",
    "https://fred.stlouisfed.org/categories/94"
   ]
  },
  {
   "cell_type": "markdown",
   "metadata": {},
   "source": [
    "The following example demonstrates a simple currency conversion from CHF/USD and EUR/USD to EUR/CHF"
   ]
  },
  {
   "cell_type": "code",
   "execution_count": 2,
   "metadata": {},
   "outputs": [
    {
     "ename": "ImportError",
     "evalue": "cannot import name 'is_list_like'",
     "traceback": [
      "\u001b[0;31m---------------------------------------------------------------------------\u001b[0m",
      "\u001b[0;31mImportError\u001b[0m                               Traceback (most recent call last)",
      "\u001b[0;32m<ipython-input-2-c4e55a1c613c>\u001b[0m in \u001b[0;36m<module>\u001b[0;34m()\u001b[0m\n\u001b[1;32m      1\u001b[0m \u001b[0;31m#from pandas_datareader import data, wb\u001b[0m\u001b[0;34m\u001b[0m\u001b[0;34m\u001b[0m\u001b[0m\n\u001b[0;32m----> 2\u001b[0;31m \u001b[0;32mimport\u001b[0m \u001b[0mpandas_datareader\u001b[0m\u001b[0;34m.\u001b[0m\u001b[0mdata\u001b[0m \u001b[0;32mas\u001b[0m \u001b[0mdata\u001b[0m\u001b[0;34m\u001b[0m\u001b[0m\n\u001b[0m\u001b[1;32m      3\u001b[0m \u001b[0;32mimport\u001b[0m \u001b[0mmatplotlib\u001b[0m\u001b[0;34m.\u001b[0m\u001b[0mpyplot\u001b[0m \u001b[0;32mas\u001b[0m \u001b[0mplt\u001b[0m\u001b[0;34m\u001b[0m\u001b[0m\n\u001b[1;32m      4\u001b[0m \u001b[0;32mimport\u001b[0m \u001b[0mdatetime\u001b[0m\u001b[0;34m\u001b[0m\u001b[0m\n\u001b[1;32m      5\u001b[0m \u001b[0;34m\u001b[0m\u001b[0m\n",
      "\u001b[0;32m~/miniconda3/lib/python3.6/site-packages/pandas_datareader/__init__.py\u001b[0m in \u001b[0;36m<module>\u001b[0;34m()\u001b[0m\n\u001b[1;32m      1\u001b[0m \u001b[0;32mfrom\u001b[0m \u001b[0;34m.\u001b[0m\u001b[0m_version\u001b[0m \u001b[0;32mimport\u001b[0m \u001b[0mget_versions\u001b[0m\u001b[0;34m\u001b[0m\u001b[0m\n\u001b[0;32m----> 2\u001b[0;31m from .data import (DataReader, Options, get_components_yahoo,\n\u001b[0m\u001b[1;32m      3\u001b[0m                    \u001b[0mget_dailysummary_iex\u001b[0m\u001b[0;34m,\u001b[0m \u001b[0mget_data_enigma\u001b[0m\u001b[0;34m,\u001b[0m \u001b[0mget_data_famafrench\u001b[0m\u001b[0;34m,\u001b[0m\u001b[0;34m\u001b[0m\u001b[0m\n\u001b[1;32m      4\u001b[0m                    \u001b[0mget_data_fred\u001b[0m\u001b[0;34m,\u001b[0m \u001b[0mget_data_google\u001b[0m\u001b[0;34m,\u001b[0m \u001b[0mget_data_moex\u001b[0m\u001b[0;34m,\u001b[0m\u001b[0;34m\u001b[0m\u001b[0m\n\u001b[1;32m      5\u001b[0m                    \u001b[0mget_data_morningstar\u001b[0m\u001b[0;34m,\u001b[0m \u001b[0mget_data_quandl\u001b[0m\u001b[0;34m,\u001b[0m \u001b[0mget_data_stooq\u001b[0m\u001b[0;34m,\u001b[0m\u001b[0;34m\u001b[0m\u001b[0m\n",
      "\u001b[0;32m~/miniconda3/lib/python3.6/site-packages/pandas_datareader/data.py\u001b[0m in \u001b[0;36m<module>\u001b[0;34m()\u001b[0m\n\u001b[1;32m     12\u001b[0m     \u001b[0mImmediateDeprecationError\u001b[0m\u001b[0;34m\u001b[0m\u001b[0m\n\u001b[1;32m     13\u001b[0m \u001b[0;32mfrom\u001b[0m \u001b[0mpandas_datareader\u001b[0m\u001b[0;34m.\u001b[0m\u001b[0mfamafrench\u001b[0m \u001b[0;32mimport\u001b[0m \u001b[0mFamaFrenchReader\u001b[0m\u001b[0;34m\u001b[0m\u001b[0m\n\u001b[0;32m---> 14\u001b[0;31m \u001b[0;32mfrom\u001b[0m \u001b[0mpandas_datareader\u001b[0m\u001b[0;34m.\u001b[0m\u001b[0mfred\u001b[0m \u001b[0;32mimport\u001b[0m \u001b[0mFredReader\u001b[0m\u001b[0;34m\u001b[0m\u001b[0m\n\u001b[0m\u001b[1;32m     15\u001b[0m \u001b[0;32mfrom\u001b[0m \u001b[0mpandas_datareader\u001b[0m\u001b[0;34m.\u001b[0m\u001b[0mgoogle\u001b[0m\u001b[0;34m.\u001b[0m\u001b[0mdaily\u001b[0m \u001b[0;32mimport\u001b[0m \u001b[0mGoogleDailyReader\u001b[0m\u001b[0;34m\u001b[0m\u001b[0m\n\u001b[1;32m     16\u001b[0m \u001b[0;32mfrom\u001b[0m \u001b[0mpandas_datareader\u001b[0m\u001b[0;34m.\u001b[0m\u001b[0mgoogle\u001b[0m\u001b[0;34m.\u001b[0m\u001b[0moptions\u001b[0m \u001b[0;32mimport\u001b[0m \u001b[0mOptions\u001b[0m \u001b[0;32mas\u001b[0m \u001b[0mGoogleOptions\u001b[0m\u001b[0;34m\u001b[0m\u001b[0m\n",
      "\u001b[0;32m~/miniconda3/lib/python3.6/site-packages/pandas_datareader/fred.py\u001b[0m in \u001b[0;36m<module>\u001b[0;34m()\u001b[0m\n\u001b[0;32m----> 1\u001b[0;31m \u001b[0;32mfrom\u001b[0m \u001b[0mpandas\u001b[0m\u001b[0;34m.\u001b[0m\u001b[0mcore\u001b[0m\u001b[0;34m.\u001b[0m\u001b[0mcommon\u001b[0m \u001b[0;32mimport\u001b[0m \u001b[0mis_list_like\u001b[0m\u001b[0;34m\u001b[0m\u001b[0m\n\u001b[0m\u001b[1;32m      2\u001b[0m \u001b[0;32mfrom\u001b[0m \u001b[0mpandas\u001b[0m \u001b[0;32mimport\u001b[0m \u001b[0mconcat\u001b[0m\u001b[0;34m,\u001b[0m \u001b[0mread_csv\u001b[0m\u001b[0;34m\u001b[0m\u001b[0m\n\u001b[1;32m      3\u001b[0m \u001b[0;34m\u001b[0m\u001b[0m\n\u001b[1;32m      4\u001b[0m \u001b[0;32mfrom\u001b[0m \u001b[0mpandas_datareader\u001b[0m\u001b[0;34m.\u001b[0m\u001b[0mbase\u001b[0m \u001b[0;32mimport\u001b[0m \u001b[0m_BaseReader\u001b[0m\u001b[0;34m\u001b[0m\u001b[0m\n\u001b[1;32m      5\u001b[0m \u001b[0;34m\u001b[0m\u001b[0m\n",
      "\u001b[0;31mImportError\u001b[0m: cannot import name 'is_list_like'"
     ],
     "output_type": "error"
    }
   ],
   "source": [
    "#from pandas_datareader import data, wb\n",
    "import pandas_datareader.data as data\n",
    "import matplotlib.pyplot as plt\n",
    "import datetime\n",
    "\n",
    "START = datetime.datetime(1990, 1, 1)\n",
    "END = datetime.datetime(2018, 1, 1)\n",
    "\n",
    "def fetchFxRates(symbol, invert=False):\n",
    "    fxRates = data.DataReader(symbol, \"fred\", START, END)\n",
    "    return fxRates if not invert else fxRates.applymap(lambda x: 1/x)\n",
    "\n",
    "ba = fetchFxRates(\"DTWEXO\", False) # Basket or currency DEXUSEU\n",
    "ca = fetchFxRates(\"DEXSZUS\", True) # Currency to value     \n",
    "bc = ca.div(ba.iloc[:,0], axis='index')\n",
    "\n",
    "baP = ba.plot.line()\n",
    "ca.plot(ax=baP, title=\"Original currencies (B/A and C/A)\", figsize=(16, 6), grid=True)\n",
    "\n",
    "bc.plot(title=\"C/B\", legend=False, figsize=(16, 6), grid=True)\n",
    "plt.show()"
   ]
  },
  {
   "cell_type": "code",
   "execution_count": null,
   "metadata": {},
   "outputs": [],
   "source": []
  }
 ],
 "metadata": {
  "kernelspec": {
   "display_name": "Python 3",
   "language": "python",
   "name": "python3"
  },
  "language_info": {
   "codemirror_mode": {
    "name": "ipython",
    "version": 3
   },
   "file_extension": ".py",
   "mimetype": "text/x-python",
   "name": "python",
   "nbconvert_exporter": "python",
   "pygments_lexer": "ipython3",
   "version": "3.6.3"
  }
 },
 "nbformat": 4,
 "nbformat_minor": 2
}
